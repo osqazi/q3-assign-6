{
  "nbformat": 4,
  "nbformat_minor": 0,
  "metadata": {
    "colab": {
      "provenance": []
    },
    "kernelspec": {
      "name": "python3",
      "display_name": "Python 3"
    },
    "language_info": {
      "name": "python"
    }
  },
  "cells": [
    {
      "cell_type": "code",
      "execution_count": 1,
      "metadata": {
        "colab": {
          "base_uri": "https://localhost:8080/"
        },
        "id": "M8BZckkuOZzR",
        "outputId": "854ca0c9-fbf7-4610-88e8-b6d0ce7afbed"
      },
      "outputs": [
        {
          "output_type": "stream",
          "name": "stdout",
          "text": [
            "Name: Owais\n",
            "Marks: 95\n",
            "Name: Ziva\n",
            "Marks: 87\n"
          ]
        }
      ],
      "source": [
        "# 1. Using self\n",
        "# Assignment:\n",
        "\n",
        "class Student:\n",
        "    def __init__(self, name, marks):\n",
        "        self.name = name\n",
        "        self.marks = marks\n",
        "\n",
        "    def display(self):\n",
        "        print(f\"Name: {self.name}\")\n",
        "        print(f\"Marks: {self.marks}\")\n",
        "\n",
        "student1 = Student(\"Owais\", 95)\n",
        "student1.display()\n",
        "\n",
        "student2 = Student(\"Ziva\", 87)\n",
        "student2.display()"
      ]
    },
    {
      "cell_type": "code",
      "source": [
        "# 2. Using cls\n",
        "# Assignment:\n",
        "\n",
        "class Counter:\n",
        "    count = 0\n",
        "    def __init__(self):\n",
        "        Counter.count += 1\n",
        "\n",
        "    @classmethod\n",
        "    def display_count(cls):\n",
        "        print(f\"Total objects created: {cls.count}\")\n",
        "\n",
        "obj1 = Counter()\n",
        "obj2 = Counter()\n",
        "obj3 = Counter()\n",
        "\n",
        "Counter.display_count()"
      ],
      "metadata": {
        "colab": {
          "base_uri": "https://localhost:8080/"
        },
        "id": "8VjsMGS_PrBL",
        "outputId": "b996e28c-6cec-4731-9ebc-e59bdf8dbab2"
      },
      "execution_count": 4,
      "outputs": [
        {
          "output_type": "stream",
          "name": "stdout",
          "text": [
            "Total objects created: 3\n"
          ]
        }
      ]
    },
    {
      "cell_type": "code",
      "source": [
        "# 3. Public Variables and Methods\n",
        "# Assignment:\n",
        "\n",
        "class Car:\n",
        "    def __init__(self, brand):\n",
        "        self.brand = brand\n",
        "\n",
        "    def start(self):\n",
        "        print(f\"{self.brand} car started!\")\n",
        "\n",
        "\n",
        "my_car = Car(\"Toyota\")\n",
        "\n",
        "print(\"Brand:\", my_car.brand)\n",
        "\n",
        "my_car.start()"
      ],
      "metadata": {
        "colab": {
          "base_uri": "https://localhost:8080/"
        },
        "id": "8qwKtYwKQs2L",
        "outputId": "fd43c2a5-c79d-46c6-9074-78995cb68b3e"
      },
      "execution_count": 5,
      "outputs": [
        {
          "output_type": "stream",
          "name": "stdout",
          "text": [
            "Brand: Toyota\n",
            "Toyota car started!\n"
          ]
        }
      ]
    },
    {
      "cell_type": "code",
      "source": [
        "# 4. Class Variables and Class Methods\n",
        "# Assignment:\n",
        "\n",
        "class Bank:\n",
        "    bank_name = \"MCB Bank Ltd.\"\n",
        "\n",
        "    def __init__(self, customer_name):\n",
        "        self.customer_name = customer_name\n",
        "\n",
        "    @classmethod\n",
        "    def change_bank_name(cls, new_name):\n",
        "        cls.bank_name = new_name\n",
        "\n",
        "    def display(self):\n",
        "        print(f\"Customer: {self.customer_name}, Bank: {Bank.bank_name}\")\n",
        "\n",
        "\n",
        "\n",
        "customer1 = Bank(\"Owais\")\n",
        "customer2 = Bank(\"Ziva\")\n",
        "\n",
        "\n",
        "print(\"Before change:\")\n",
        "customer1.display()\n",
        "customer2.display()\n",
        "\n",
        "\n",
        "Bank.change_bank_name(\"UBL Bank Ltd.\")\n",
        "\n",
        "print(\"\\nAfter change:\")\n",
        "customer1.display()\n",
        "customer2.display()"
      ],
      "metadata": {
        "colab": {
          "base_uri": "https://localhost:8080/"
        },
        "id": "9H0_Ov7zR5tI",
        "outputId": "8ebea330-ec01-4cf7-9fc1-440147122579"
      },
      "execution_count": 6,
      "outputs": [
        {
          "output_type": "stream",
          "name": "stdout",
          "text": [
            "Before change:\n",
            "Customer: Owais, Bank: MCB Bank Ltd.\n",
            "Customer: Ziva, Bank: MCB Bank Ltd.\n",
            "\n",
            "After change:\n",
            "Customer: Owais, Bank: UBL Bank Ltd.\n",
            "Customer: Ziva, Bank: UBL Bank Ltd.\n"
          ]
        }
      ]
    },
    {
      "cell_type": "code",
      "source": [
        "# 5. Static Variables and Static Methods\n",
        "# Assignment:\n",
        "\n",
        "class MathUtils:\n",
        "    @staticmethod\n",
        "    def add(a, b):\n",
        "        return a + b\n",
        "\n",
        "\n",
        "result = MathUtils.add(5, 3)\n",
        "print(\"Sum:\", result)  # Output: Sum: 8"
      ],
      "metadata": {
        "colab": {
          "base_uri": "https://localhost:8080/"
        },
        "id": "iGw_CNAhTH7B",
        "outputId": "bfda6e8c-f1ac-4583-b7a8-aac079ad3dbe"
      },
      "execution_count": 7,
      "outputs": [
        {
          "output_type": "stream",
          "name": "stdout",
          "text": [
            "Sum: 8\n"
          ]
        }
      ]
    },
    {
      "cell_type": "code",
      "source": [
        "# 6. Constructors and Destructors\n",
        "# Assignment:\n",
        "\n",
        "class Logger:\n",
        "    def __init__(self, name):\n",
        "        self.name = name\n",
        "        print(f\"Logger object '{self.name}' created.\")\n",
        "\n",
        "    def __del__(self):\n",
        "        print(f\"Logger object '{self.name}' destroyed.\")\n",
        "\n",
        "\n",
        "print(\"Creating objects...\")\n",
        "obj1 = Logger(\"First\")\n",
        "obj2 = Logger(\"Second\")\n",
        "\n",
        "print(\"\\nDeleting objects...\")\n",
        "del obj1"
      ],
      "metadata": {
        "colab": {
          "base_uri": "https://localhost:8080/"
        },
        "id": "ZbKfC2x7ToEv",
        "outputId": "315f3ad4-1fd5-44a4-a8f1-dccbe7a5c1cb"
      },
      "execution_count": 8,
      "outputs": [
        {
          "output_type": "stream",
          "name": "stdout",
          "text": [
            "Creating objects...\n",
            "Logger object 'First' created.\n",
            "Logger object 'Second' created.\n",
            "\n",
            "Deleting objects...\n",
            "Logger object 'First' destroyed.\n"
          ]
        }
      ]
    },
    {
      "cell_type": "code",
      "source": [
        "# 7. Access Modifiers: Public, Private, and Protected\n",
        "# Assignment:\n",
        "\n",
        "class Employee:\n",
        "    def __init__(self, name, salary, ssn):\n",
        "        self.name = name\n",
        "        self._salary = salary\n",
        "        self.__ssn = ssn\n",
        "\n",
        "    def display(self):\n",
        "        print(f\"Name (public): {self.name}\")\n",
        "        print(f\"Salary (protected): {self._salary}\")\n",
        "        print(f\"SSN (private): {self.__ssn}\")\n",
        "\n",
        "\n",
        "emp = Employee(\"Owais\", 175000, \"335-12-34567\")\n",
        "\n",
        "print(\"1. Accessing public variable (name):\", emp.name)\n",
        "print(\"2. Accessing protected variable (_salary):\", emp._salary)\n",
        "\n",
        "try:\n",
        "    print(\"3. Accessing private variable (__ssn):\", emp.__ssn)\n",
        "except AttributeError as e:\n",
        "    print(\"3. Error accessing private variable:\", e)\n",
        "\n",
        "\n",
        "print(\"4. Accessing private variable via name mangling:\", emp._Employee__ssn)"
      ],
      "metadata": {
        "colab": {
          "base_uri": "https://localhost:8080/"
        },
        "id": "9LYDxZNpUShw",
        "outputId": "5c8a2e86-0d3b-4d66-da96-ae3b8ebc9f8e"
      },
      "execution_count": 9,
      "outputs": [
        {
          "output_type": "stream",
          "name": "stdout",
          "text": [
            "1. Accessing public variable (name): Owais\n",
            "2. Accessing protected variable (_salary): 175000\n",
            "3. Error accessing private variable: 'Employee' object has no attribute '__ssn'\n",
            "4. Accessing private variable via name mangling: 335-12-34567\n"
          ]
        }
      ]
    },
    {
      "cell_type": "code",
      "source": [
        "# 8. The super() Function\n",
        "# Assignment:\n",
        "\n",
        "class Person:\n",
        "    def __init__(self, name):\n",
        "        self.name = name\n",
        "\n",
        "class Teacher(Person):\n",
        "    def __init__(self, name, subject):\n",
        "        super().__init__(name)\n",
        "        self.subject = subject\n",
        "\n",
        "    def display(self):\n",
        "        print(f\"Name: {self.name}, Subject: {self.subject}\")\n",
        "\n",
        "\n",
        "teacher = Teacher(\"Sir. Zia Mustafa\", \"Financial Accounting\")\n",
        "teacher.display()"
      ],
      "metadata": {
        "colab": {
          "base_uri": "https://localhost:8080/"
        },
        "id": "6-tjm6UsVQ6J",
        "outputId": "a140b93f-35da-4c5f-97a8-b9f2b87524c1"
      },
      "execution_count": 10,
      "outputs": [
        {
          "output_type": "stream",
          "name": "stdout",
          "text": [
            "Name: Sir. Zia Mustafa, Subject: Financial Accounting\n"
          ]
        }
      ]
    },
    {
      "cell_type": "code",
      "source": [
        "# 9. Abstract Classes and Methods\n",
        "# Assignment:\n",
        "\n",
        "from abc import ABC, abstractmethod\n",
        "\n",
        "class Shape(ABC):\n",
        "    @abstractmethod\n",
        "    def area(self):\n",
        "        pass\n",
        "\n",
        "class Rectangle(Shape):\n",
        "    def __init__(self, length, width):\n",
        "        self.length = length\n",
        "        self.width = width\n",
        "\n",
        "    def area(self):\n",
        "        return self.length * self.width\n",
        "\n",
        "rect = Rectangle(5, 3)\n",
        "print(rect.area())\n",
        "\n",
        "try:\n",
        "    shape = Shape()\n",
        "except TypeError as e:\n",
        "    print(e)"
      ],
      "metadata": {
        "colab": {
          "base_uri": "https://localhost:8080/"
        },
        "id": "205oSEjoV9zS",
        "outputId": "4f9a2082-b92a-4f6f-e8bc-d697cbc681be"
      },
      "execution_count": 11,
      "outputs": [
        {
          "output_type": "stream",
          "name": "stdout",
          "text": [
            "15\n",
            "Can't instantiate abstract class Shape with abstract method area\n"
          ]
        }
      ]
    },
    {
      "cell_type": "code",
      "source": [
        "# 10. Instance Methods\n",
        "# Assignment:\n",
        "\n",
        "class Dog:\n",
        "    def __init__(self, name, breed):\n",
        "        self.name = name\n",
        "        self.breed = breed\n",
        "\n",
        "    def bark(self):\n",
        "        print(f\"{self.name} the {self.breed} says Woof!\")\n",
        "\n",
        "\n",
        "my_dog = Dog(\"Buddy\", \"Golden Retriever\")\n",
        "my_dog.bark()"
      ],
      "metadata": {
        "colab": {
          "base_uri": "https://localhost:8080/"
        },
        "id": "Sg5ROlhqXFku",
        "outputId": "f52c2d66-092b-4af9-cd94-fb464a590a4a"
      },
      "execution_count": 12,
      "outputs": [
        {
          "output_type": "stream",
          "name": "stdout",
          "text": [
            "Buddy the Golden Retriever says Woof!\n"
          ]
        }
      ]
    },
    {
      "cell_type": "code",
      "source": [
        "# 11. Class Methods\n",
        "# Assignment:\n",
        "\n",
        "class Book:\n",
        "    total_books = 0\n",
        "\n",
        "    @classmethod\n",
        "    def increment_book_count(cls):\n",
        "        cls.total_books += 1\n",
        "\n",
        "    def __init__(self):\n",
        "        Book.increment_book_count()\n",
        "\n",
        "book1 = Book()\n",
        "book2 = Book()\n",
        "book4 = Book() # Wrong Variable name just to check :)\n",
        "print(Book.total_books)\n",
        "\n",
        "\n"
      ],
      "metadata": {
        "colab": {
          "base_uri": "https://localhost:8080/"
        },
        "id": "8OaU3un-XkoU",
        "outputId": "c04380d7-8190-4b41-cdad-1d277107597b"
      },
      "execution_count": 13,
      "outputs": [
        {
          "output_type": "stream",
          "name": "stdout",
          "text": [
            "3\n"
          ]
        }
      ]
    },
    {
      "cell_type": "code",
      "source": [
        "# 12. Static Methods\n",
        "# Assignment:\n",
        "\n",
        "class TemperatureConverter:\n",
        "    @staticmethod\n",
        "    def celsius_to_fahrenheit(c):\n",
        "        return (c * 9/5) + 32\n",
        "\n",
        "print(TemperatureConverter.celsius_to_fahrenheit(37))\n"
      ],
      "metadata": {
        "colab": {
          "base_uri": "https://localhost:8080/"
        },
        "id": "Ogt_RxIlX7kq",
        "outputId": "20d557b5-ae87-4d8e-f860-ed99e94b1c7a"
      },
      "execution_count": 15,
      "outputs": [
        {
          "output_type": "stream",
          "name": "stdout",
          "text": [
            "98.6\n"
          ]
        }
      ]
    },
    {
      "cell_type": "code",
      "source": [
        "# 13. Composition\n",
        "# Assignment:\n",
        "\n",
        "class Engine:\n",
        "    def start(self):\n",
        "        return \"Car's Engine started\"\n",
        "\n",
        "class Car:\n",
        "    def __init__(self):\n",
        "        self.engine = Engine()\n",
        "\n",
        "    def start(self):\n",
        "        return self.engine.start()\n",
        "\n",
        "car = Car()\n",
        "print(car.start())\n"
      ],
      "metadata": {
        "colab": {
          "base_uri": "https://localhost:8080/"
        },
        "id": "PJrTiq3KYTaE",
        "outputId": "5fcae7df-2fde-46fb-9067-a03ade3cb379"
      },
      "execution_count": 19,
      "outputs": [
        {
          "output_type": "stream",
          "name": "stdout",
          "text": [
            "Car's Engine started\n"
          ]
        }
      ]
    },
    {
      "cell_type": "code",
      "source": [
        "class Employee:\n",
        "    def __init__(self, name):\n",
        "        self.name = name\n",
        "\n",
        "class Department:\n",
        "    def __init__(self, name):\n",
        "        self.name = name\n",
        "        self.employees = []\n",
        "\n",
        "    def add_employee(self, employee):\n",
        "        self.employees.append(employee)\n",
        "\n",
        "emp1 = Employee(\"Owais\")\n",
        "emp2 = Employee(\"Ziva\")\n",
        "dept = Department(\"Finance\")\n",
        "\n",
        "dept.add_employee(emp1)\n",
        "dept.add_employee(emp2)\n",
        "\n",
        "print(f\"Department: {dept.name}\")\n",
        "print('=====================')\n",
        "print('Employees:')\n",
        "print('---------')\n",
        "for emp in dept.employees:\n",
        "    print('- ', emp.name)"
      ],
      "metadata": {
        "colab": {
          "base_uri": "https://localhost:8080/"
        },
        "id": "pvwJIRPRY1wg",
        "outputId": "3433485b-b40e-4b39-a6d5-236104916c4c"
      },
      "execution_count": 34,
      "outputs": [
        {
          "output_type": "stream",
          "name": "stdout",
          "text": [
            "Department: Finance\n",
            "=====================\n",
            "Employees:\n",
            "---------\n",
            "-  Owais\n",
            "-  Ziva\n"
          ]
        }
      ]
    },
    {
      "cell_type": "code",
      "source": [
        "# 15. Method Resolution Order (MRO) and Diamond Inheritance\n",
        "# Assignment:\n",
        "\n",
        "class A:\n",
        "    def show(self):\n",
        "        print(\"A\")\n",
        "\n",
        "class B(A):\n",
        "    def show(self):\n",
        "        print(\"B\")\n",
        "\n",
        "class C(A):\n",
        "    def show(self):\n",
        "        print(\"C\")\n",
        "\n",
        "class D(B, C):\n",
        "    pass\n",
        "\n",
        "d = D()\n",
        "d.show()\n",
        "print(D.__mro__)\n"
      ],
      "metadata": {
        "colab": {
          "base_uri": "https://localhost:8080/"
        },
        "id": "x3DDUsXebhCp",
        "outputId": "242bf0f3-78c8-411f-f09e-f2ab5268d0ed"
      },
      "execution_count": 35,
      "outputs": [
        {
          "output_type": "stream",
          "name": "stdout",
          "text": [
            "B\n",
            "(<class '__main__.D'>, <class '__main__.B'>, <class '__main__.C'>, <class '__main__.A'>, <class 'object'>)\n"
          ]
        }
      ]
    },
    {
      "cell_type": "code",
      "source": [
        "# 16. Function Decorators\n",
        "# Assignment:\n",
        "\n",
        "def log_function_call(func):\n",
        "    def wrapper(*args, **kwargs):\n",
        "        print(\"Function is being called\")\n",
        "        return func(*args, **kwargs)\n",
        "    return wrapper\n",
        "\n",
        "@log_function_call\n",
        "def say_hello():\n",
        "    print(\"Hello!\")\n",
        "\n",
        "say_hello()"
      ],
      "metadata": {
        "colab": {
          "base_uri": "https://localhost:8080/"
        },
        "id": "pCupbAMrb0HG",
        "outputId": "63730655-690c-4d55-aead-1b531ed951fc"
      },
      "execution_count": 36,
      "outputs": [
        {
          "output_type": "stream",
          "name": "stdout",
          "text": [
            "Function is being called\n",
            "Hello!\n"
          ]
        }
      ]
    },
    {
      "cell_type": "code",
      "source": [
        "# 17. Class Decorators\n",
        "# Assignment:\n",
        "\n",
        "def add_greeting(cls):\n",
        "    def greet(self):\n",
        "        return \"Hello from Decorator!\"\n",
        "    cls.greet = greet\n",
        "    return cls\n",
        "\n",
        "@add_greeting\n",
        "class Person:\n",
        "    pass\n",
        "\n",
        "p = Person()\n",
        "print(p.greet())"
      ],
      "metadata": {
        "colab": {
          "base_uri": "https://localhost:8080/"
        },
        "id": "I-zlywYKcWea",
        "outputId": "c03ed5f7-784d-4270-b373-443c62ae4ab6"
      },
      "execution_count": 37,
      "outputs": [
        {
          "output_type": "stream",
          "name": "stdout",
          "text": [
            "Hello from Decorator!\n"
          ]
        }
      ]
    },
    {
      "cell_type": "code",
      "source": [
        "# 18. Property Decorators: @property, @setter, and @deleter\n",
        "# Assignment:\n",
        "\n",
        "\n",
        "class Product:\n",
        "    def __init__(self, price):\n",
        "        self._price = price\n",
        "\n",
        "    @property\n",
        "    def price(self):\n",
        "        return self._price\n",
        "\n",
        "    @price.setter\n",
        "    def price(self, value):\n",
        "        if value >= 0:\n",
        "            self._price = value\n",
        "        else:\n",
        "            raise ValueError(\"Price cannot be negative\")\n",
        "\n",
        "    @price.deleter\n",
        "    def price(self):\n",
        "        print(\"Deleting price...\")\n",
        "        del self._price\n",
        "\n",
        "product = Product(100)\n",
        "print(product.price)\n",
        "product.price = 150\n",
        "print(product.price)\n",
        "del product.price"
      ],
      "metadata": {
        "colab": {
          "base_uri": "https://localhost:8080/"
        },
        "id": "_uNr5Pgacm8R",
        "outputId": "d68dc745-e2c2-425e-aebf-27435dd006d6"
      },
      "execution_count": 38,
      "outputs": [
        {
          "output_type": "stream",
          "name": "stdout",
          "text": [
            "100\n",
            "150\n",
            "Deleting price...\n"
          ]
        }
      ]
    },
    {
      "cell_type": "code",
      "source": [
        "# 19. callable() and __call__()\n",
        "# Assignment:\n",
        "\n",
        "\n",
        "class Multiplier:\n",
        "    def __init__(self, factor):\n",
        "        self.factor = factor\n",
        "\n",
        "    def __call__(self, x):\n",
        "        return x * self.factor\n",
        "\n",
        "# Test\n",
        "mult_by_5 = Multiplier(5)\n",
        "print(callable(mult_by_5))\n",
        "print(mult_by_5(10))\n",
        "print(mult_by_5(7))"
      ],
      "metadata": {
        "colab": {
          "base_uri": "https://localhost:8080/"
        },
        "id": "mxAnuqrodImL",
        "outputId": "8a90b6d2-ee7a-415e-f2c7-279b7c1048bf"
      },
      "execution_count": 39,
      "outputs": [
        {
          "output_type": "stream",
          "name": "stdout",
          "text": [
            "True\n",
            "50\n",
            "35\n"
          ]
        }
      ]
    },
    {
      "cell_type": "code",
      "source": [
        "# 20. Creating a Custom Exception\n",
        "# Assignment:\n",
        "\n",
        "class InvalidAgeError(Exception):\n",
        "    pass\n",
        "\n",
        "def check_age(age):\n",
        "    if age < 18:\n",
        "        raise InvalidAgeError(\"Age must be 18 or older\")\n",
        "    return \"Valid age\"\n",
        "\n",
        "try:\n",
        "    print(check_age(20))\n",
        "    print(check_age(15))\n",
        "except InvalidAgeError as e:\n",
        "    print(e)"
      ],
      "metadata": {
        "colab": {
          "base_uri": "https://localhost:8080/"
        },
        "id": "lyzKNGundgyB",
        "outputId": "6a612d8d-07d0-4a37-ec3f-751eb6c7b44d"
      },
      "execution_count": 40,
      "outputs": [
        {
          "output_type": "stream",
          "name": "stdout",
          "text": [
            "Valid age\n",
            "Age must be 18 or older\n"
          ]
        }
      ]
    },
    {
      "cell_type": "code",
      "source": [
        "# 21. Make a Custom Class Iterable\n",
        "# Assignment:\n",
        "\n",
        "class Countdown:\n",
        "    def __init__(self, start):\n",
        "        self.current = start\n",
        "\n",
        "    def __iter__(self):\n",
        "        return self\n",
        "\n",
        "    def __next__(self):\n",
        "        if self.current <= 0:\n",
        "            raise StopIteration\n",
        "        value = self.current\n",
        "        self.current -= 1\n",
        "        return value\n",
        "\n",
        "for num in Countdown(5):\n",
        "    print(num)\n",
        "\n"
      ],
      "metadata": {
        "colab": {
          "base_uri": "https://localhost:8080/"
        },
        "id": "QP4-FFjAd_D2",
        "outputId": "cbd6477a-ed02-420b-c17e-7602cc526d51"
      },
      "execution_count": 41,
      "outputs": [
        {
          "output_type": "stream",
          "name": "stdout",
          "text": [
            "5\n",
            "4\n",
            "3\n",
            "2\n",
            "1\n"
          ]
        }
      ]
    }
  ]
}